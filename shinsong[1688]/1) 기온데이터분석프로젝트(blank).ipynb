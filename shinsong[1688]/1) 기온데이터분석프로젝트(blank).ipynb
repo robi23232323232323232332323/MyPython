{
 "cells": [
  {
   "cell_type": "markdown",
   "metadata": {},
   "source": [
    "## [ 프로젝트 1 - 기온데이터 분석 ]\n",
    "### 1) 데이터 불러오기"
   ]
  },
  {
   "cell_type": "code",
   "execution_count": null,
   "metadata": {},
   "outputs": [],
   "source": [
    "import csv\n",
    "f = open('seoul.csv', encoding=\"utf-8\")\n",
    "data = csv.reader(f)\n",
    "\n",
    "for row in data :\n",
    "    # 아래 빈 칸에 들어갈 내용을 작성해주세요!\n",
    "    print(_____)"
   ]
  },
  {
   "cell_type": "markdown",
   "metadata": {},
   "source": [
    "###  << 몸풀기 문제 : 기상 관측 이래 가장 더웠던 날은 몇 도였을까요? >>"
   ]
  },
  {
   "cell_type": "code",
   "execution_count": null,
   "metadata": {},
   "outputs": [],
   "source": [
    "import csv\n",
    "f = open('seoul.csv', encoding=\"utf-8\")\n",
    "data = csv.reader(f)\n",
    "next(data)\n",
    "\n",
    "max_temp = 0 # max_temp : 최고 기온을 기록할 저장 공간\n",
    "max_temp_date = '' # max_temp_date : 최고 기온이었던 날짜를 기록할 저장 공간\n",
    "\n",
    "for row in data :\n",
    "    if row[-1] != '' :\n",
    "        # 아래 빈 칸에 들어갈 내용을 작성해주세요!\n",
    "        if float(________) > _____ :\n",
    "            memo = float(_______)\n",
    "            memo_date = _______\n",
    "            \n",
    "print(max_temp, max_temp_date)"
   ]
  },
  {
   "cell_type": "markdown",
   "metadata": {},
   "source": [
    "#### tip1) split 함수 : 원하는 문자를 기준으로 문자열을 나누어 리스트로 만들어줌"
   ]
  },
  {
   "cell_type": "code",
   "execution_count": null,
   "metadata": {},
   "outputs": [],
   "source": [
    "s = '2018 python conference'\n",
    "print(s.split())"
   ]
  },
  {
   "cell_type": "code",
   "execution_count": null,
   "metadata": {},
   "outputs": [],
   "source": [
    "date = '1907-10-01'\n",
    "split_date = date.split('-')\n",
    "print(split_date[1])\n",
    "# 월만 출력하기"
   ]
  },
  {
   "cell_type": "code",
   "execution_count": 3,
   "metadata": {},
   "outputs": [
    {
     "ename": "ValueError",
     "evalue": "invalid literal for int() with base 10: '7.9'",
     "output_type": "error",
     "traceback": [
      "\u001b[1;31m---------------------------------------------------------------------------\u001b[0m",
      "\u001b[1;31mValueError\u001b[0m                                Traceback (most recent call last)",
      "\u001b[1;32m<ipython-input-3-e8a2643b6669>\u001b[0m in \u001b[0;36m<module>\u001b[1;34m\u001b[0m\n\u001b[0;32m     11\u001b[0m     \u001b[1;32mif\u001b[0m \u001b[0mrow\u001b[0m\u001b[1;33m[\u001b[0m\u001b[1;33m-\u001b[0m\u001b[1;36m1\u001b[0m\u001b[1;33m]\u001b[0m \u001b[1;33m!=\u001b[0m \u001b[1;34m''\u001b[0m \u001b[1;33m:\u001b[0m\u001b[1;33m\u001b[0m\u001b[1;33m\u001b[0m\u001b[0m\n\u001b[0;32m     12\u001b[0m         \u001b[1;31m# 아래 빈 칸에 들어갈 내용을 입력해주세요!\u001b[0m\u001b[1;33m\u001b[0m\u001b[1;33m\u001b[0m\u001b[1;33m\u001b[0m\u001b[0m\n\u001b[1;32m---> 13\u001b[1;33m         \u001b[1;32mif\u001b[0m \u001b[0mint\u001b[0m\u001b[1;33m(\u001b[0m\u001b[0mrow\u001b[0m\u001b[1;33m[\u001b[0m\u001b[1;33m-\u001b[0m\u001b[1;36m2\u001b[0m\u001b[1;33m]\u001b[0m\u001b[1;33m)\u001b[0m\u001b[1;33m<\u001b[0m\u001b[0mnin_temp\u001b[0m \u001b[1;33m:\u001b[0m\u001b[1;33m\u001b[0m\u001b[1;33m\u001b[0m\u001b[0m\n\u001b[0m\u001b[0;32m     14\u001b[0m             \u001b[0mmax_temp\u001b[0m \u001b[1;33m=\u001b[0m \u001b[0mfloat\u001b[0m\u001b[1;33m(\u001b[0m\u001b[0mrow\u001b[0m\u001b[1;33m[\u001b[0m\u001b[1;33m-\u001b[0m\u001b[1;36m2\u001b[0m\u001b[1;33m]\u001b[0m\u001b[1;33m)\u001b[0m\u001b[1;33m\u001b[0m\u001b[1;33m\u001b[0m\u001b[0m\n\u001b[0;32m     15\u001b[0m             \u001b[0mmax_temp_date\u001b[0m \u001b[1;33m=\u001b[0m \u001b[0mrow\u001b[0m\u001b[1;33m[\u001b[0m\u001b[1;36m0\u001b[0m\u001b[1;33m]\u001b[0m\u001b[1;33m\u001b[0m\u001b[1;33m\u001b[0m\u001b[0m\n",
      "\u001b[1;31mValueError\u001b[0m: invalid literal for int() with base 10: '7.9'"
     ]
    }
   ],
   "source": [
    "import csv\n",
    "f = open('seoul.csv', encoding=\"utf-8\")\n",
    "data = csv.reader(f)\n",
    "next(data)\n",
    "\n",
    "max_temp = 0\n",
    "max_temp_date = ''\n",
    "\n",
    "cnt = 0\n",
    "for row in data :\n",
    "    if row[-1] != '' :\n",
    "        # 아래 빈 칸에 들어갈 내용을 입력해주세요!\n",
    "        if int(row[-2])<nin_temp :\n",
    "            max_temp = float(row[-2])\n",
    "            max_temp_date = row[0]\n",
    "            \n"
   ]
  },
  {
   "cell_type": "code",
   "execution_count": 1,
   "metadata": {},
   "outputs": [
    {
     "ename": "SyntaxError",
     "evalue": "unexpected EOF while parsing (<ipython-input-1-ade8166d7b32>, line 7)",
     "output_type": "error",
     "traceback": [
      "\u001b[1;36m  File \u001b[1;32m\"<ipython-input-1-ade8166d7b32>\"\u001b[1;36m, line \u001b[1;32m7\u001b[0m\n\u001b[1;33m    # 역대 서울 기온 중 37도 이상이었던 날의 날짜, 최고 기온을 출력해보세요.\u001b[0m\n\u001b[1;37m                                                ^\u001b[0m\n\u001b[1;31mSyntaxError\u001b[0m\u001b[1;31m:\u001b[0m unexpected EOF while parsing\n"
     ]
    }
   ],
   "source": [
    "import csv\n",
    "f = open('seoul.csv', encoding=\"utf-8\")\n",
    "data = csv.reader(f)\n",
    "next(data)\n",
    "for row in data = \n",
    "     # 1995년 이전의 최고 기온을 알아보기 위한 코드를 작성해보세요.\n",
    "        if int(row[0].split('-')[0]) < 1995 and float(row[-1]) > max_temp :\n",
    "            max_temp = float(row[-1])\n",
    "            max_temp_date = row[0]\n",
    "    \n",
    "    # 역대 서울 기온 중 37도 이상이었던 날의 날짜, 최고 기온을 출력해보세요."
   ]
  },
  {
   "cell_type": "markdown",
   "metadata": {},
   "source": [
    "### [ plot 함수 : 데이터를 꺽은선 그래프로 표현해줌 ]"
   ]
  },
  {
   "cell_type": "code",
   "execution_count": null,
   "metadata": {},
   "outputs": [],
   "source": [
    "import matplotlib.pyplot as plt\n",
    "plt.plot([1,2,3,40])\n",
    "plt.show()"
   ]
  },
  {
   "cell_type": "code",
   "execution_count": null,
   "metadata": {},
   "outputs": [],
   "source": [
    "import csv\n",
    "f = open('seoul.csv', encoding=\"utf-8\")\n",
    "data = csv.reader(f)\n",
    "next(data)\n",
    "\n",
    "# 역대 오늘의 서울의 최고 기온을 출력해보세요.\n",
    "temperature=[]\n",
    "for row in data :\n",
    "    if(row[-1] !='' and (row[0].split('-')[1] == '11' and row[0].split('-')[2] == '24')):       \n",
    "        temperature.append(float(row[-1]))\n",
    "    \n",
    "import matplotlib.pyplot as plt\n",
    "plt.plot(_temperature)\n",
    "\n",
    "plt.show()"
   ]
  },
  {
   "cell_type": "markdown",
   "metadata": {},
   "source": [
    "### [ hist 함수 : 데이터를 히스트그램으로 표현해줌 ]"
   ]
  },
  {
   "cell_type": "code",
   "execution_count": null,
   "metadata": {},
   "outputs": [],
   "source": [
    "import matplotlib.pyplot as plt\n",
    "plt.hist([1,2,3,4,4,4,4])\n",
    "plt.show()"
   ]
  },
  {
   "cell_type": "code",
   "execution_count": null,
   "metadata": {},
   "outputs": [],
   "source": [
    "import matplotlib.pyplot as plt\n",
    "import random\n",
    "dice =[]\n",
    "for i in range(100) : \n",
    "    dice.append(random.randint(1,6))\n",
    "plt.hist(dice, bins = 2)\n",
    "#bins는 막대의 갯수 만일 bins=6이라면 그래프의 형태는?\n",
    "plt.show()"
   ]
  },
  {
   "cell_type": "code",
   "execution_count": null,
   "metadata": {},
   "outputs": [],
   "source": [
    "import csv\n",
    "f = open('seoul.csv', encoding=\"utf-8\")\n",
    "data = csv.reader(f)\n",
    "next(data)\n",
    "\n",
    "# 역대 서울의 최고 기온을 히스토그램으로 출력해보세요.\n",
    "max = []\n",
    "\n",
    "for row in data :\n",
    "    if(row[-1] !=\"\"):\n",
    "        max.append(float(row[-1]))\n",
    "        #print(row[-1])\n",
    "    \n",
    "import matplotlib.pyplot as plt\n",
    "plt.hist(max, bins =100)\n",
    "plt.show()"
   ]
  },
  {
   "cell_type": "markdown",
   "metadata": {},
   "source": [
    "### Team Mission) 알고리즘 설계하기\n"
   ]
  },
  {
   "cell_type": "code",
   "execution_count": 4,
   "metadata": {},
   "outputs": [
    {
     "ename": "SyntaxError",
     "evalue": "invalid syntax (<ipython-input-4-618f9fbea673>, line 2)",
     "output_type": "error",
     "traceback": [
      "\u001b[1;36m  File \u001b[1;32m\"<ipython-input-4-618f9fbea673>\"\u001b[1;36m, line \u001b[1;32m2\u001b[0m\n\u001b[1;33m    f = open('seoul.csv', , encoding=\"utf-8\")\u001b[0m\n\u001b[1;37m                          ^\u001b[0m\n\u001b[1;31mSyntaxError\u001b[0m\u001b[1;31m:\u001b[0m invalid syntax\n"
     ]
    }
   ],
   "source": [
    "import csv\n",
    "f = open('seoul.csv',  encoding=\"utf-8\")\n",
    "data = csv.reader(f)\n",
    "next(data)\n",
    "\n",
    "temp = []\n",
    "# 내 생일의 기온 변화를 시각화해보세요.\n",
    "for row in data :\n",
    "   \n",
    "    if(row[-1]\n",
    "            temp.append(float(row[-1]))\n",
    "\n",
    "import matplotlib.pyplot as plt\n",
    "plt.____(temp)\n",
    "plt.show()"
   ]
  },
  {
   "cell_type": "markdown",
   "metadata": {},
   "source": [
    "#### tip) 조금 더 예쁘게 표현하기"
   ]
  },
  {
   "cell_type": "code",
   "execution_count": null,
   "metadata": {},
   "outputs": [],
   "source": [
    "import matplotlib.pyplot as plt\n",
    "import csv\n",
    "f = open('seoul.csv', encoding=\"utf-8\")\n",
    "data = csv.reader(f)\n",
    "next(data)\n",
    "\n",
    "result = []\n",
    "\n",
    "for row in data :\n",
    "    if row[-3] != '' :\n",
    "        result.append(float(row[-3]))\n",
    "        \n",
    "plt.style.use('ggplot')\n",
    "plt.figure(dpi=300)\n",
    "plt.rc('font', family = 'Malgun Gothic') # Windows인 경우\n",
    "# plt.rc('font', family = 'AppleGothic') # MacOS인 경우\n",
    "plt.title('서울 평균 기온 히스토그램')\n",
    "plt.hist(result, bins=100)\n",
    "plt.savefig('서울 평균 기온 히스토그램.png')\n",
    "plt.show()"
   ]
  },
  {
   "cell_type": "markdown",
   "metadata": {},
   "source": [
    "#### mission1) 000000 시각화해보기"
   ]
  },
  {
   "cell_type": "code",
   "execution_count": null,
   "metadata": {},
   "outputs": [],
   "source": [
    "import matplotlib.pyplot as plt\n",
    "import csv\n",
    "result = []\n",
    "f = open('seoul.csv', encoding=\"utf-8\")\n",
    "data = csv.reader(f)\n",
    "next(data)\n",
    "\n",
    "for row in data :\n",
    "    if row[-3] != '' and row[0].split('-')[1] == '07' :\n",
    "        result.append(float(row[-3]))\n",
    "        \n",
    "plt.hist(result, bins = 40)\n",
    "plt.show()"
   ]
  },
  {
   "cell_type": "markdown",
   "metadata": {},
   "source": [
    "#### mission2) 000000 시각화해보기"
   ]
  },
  {
   "cell_type": "code",
   "execution_count": null,
   "metadata": {},
   "outputs": [],
   "source": [
    "import matplotlib.pyplot as plt\n",
    "import csv\n",
    "summer = []\n",
    "winter = []\n",
    "f = open('seoul.csv', encoding=\"utf-8\")\n",
    "data = csv.reader(f)\n",
    "next(data)\n",
    "for row in data :\n",
    "    if row[-3] != '' and row[0].split('-')[1] == '07':\n",
    "        summer.append(float(row[-3]))\n",
    "    if row[-3] != '' and row[0].split('-')[1] == '01' :\n",
    "        winter.append(float(row[-3]))\n",
    "        \n",
    "plt.figure(dpi=300)\n",
    "plt.hist(summer, bins = 100)\n",
    "plt.hist(winter, bins = 100)\n",
    "plt.show()"
   ]
  },
  {
   "cell_type": "markdown",
   "metadata": {},
   "source": [
    "### [  boxplot 함수 : 데이터를 boxplot(상자그림)으로 표현해줌 ]"
   ]
  },
  {
   "cell_type": "code",
   "execution_count": null,
   "metadata": {},
   "outputs": [],
   "source": [
    "import matplotlib.pyplot as plt\n",
    "plt.boxplot([1,2,3,4,7])\n",
    "plt.show()"
   ]
  },
  {
   "cell_type": "markdown",
   "metadata": {},
   "source": [
    "#### mission3) boxplot으로 시각화해보기"
   ]
  },
  {
   "cell_type": "code",
   "execution_count": 7,
   "metadata": {},
   "outputs": [
    {
     "data": {
      "image/png": "[encoded data removed]",
      "text/plain": [
       "<Figure size 432x288 with 1 Axes>"
      ]
     },
     "metadata": {},
     "output_type": "display_data"
    }
   ],
   "source": [
    "import matplotlib.pyplot as plt\n",
    "import csv\n",
    "summer = []\n",
    "winter = []\n",
    "f = open('seoul.csv', encoding=\"utf-8\")\n",
    "data = csv.reader(f)\n",
    "next(data)\n",
    "\n",
    "for row in data :\n",
    "    if row[-3] != '' and row[0].split('-')[1] == '05' :\n",
    "        summer.append(float(row[-3]))\n",
    "    if row[-3] != '' and row[0].split('-')[1] == '10' :\n",
    "        winter.append(float(row[-3]))\n",
    "        \n",
    "plt.boxplot([summer,winter])\n",
    "plt.show()"
   ]
  },
  {
   "cell_type": "markdown",
   "metadata": {},
   "source": [
    "#### 4) 000000 시각화하기"
   ]
  },
  {
   "cell_type": "code",
   "execution_count": 8,
   "metadata": {},
   "outputs": [
    {
     "ename": "UnicodeDecodeError",
     "evalue": "'cp949' codec can't decode byte 0x9c in position 8: illegal multibyte sequence",
     "output_type": "error",
     "traceback": [
      "\u001b[1;31m---------------------------------------------------------------------------\u001b[0m",
      "\u001b[1;31mUnicodeDecodeError\u001b[0m                        Traceback (most recent call last)",
      "\u001b[1;32m<ipython-input-8-57c82c126c29>\u001b[0m in \u001b[0;36m<module>\u001b[1;34m\u001b[0m\n\u001b[0;32m      3\u001b[0m \u001b[0mf\u001b[0m \u001b[1;33m=\u001b[0m \u001b[0mopen\u001b[0m\u001b[1;33m(\u001b[0m\u001b[1;34m'seoul.csv'\u001b[0m\u001b[1;33m)\u001b[0m\u001b[1;33m\u001b[0m\u001b[1;33m\u001b[0m\u001b[0m\n\u001b[0;32m      4\u001b[0m \u001b[0mdata\u001b[0m \u001b[1;33m=\u001b[0m \u001b[0mcsv\u001b[0m\u001b[1;33m.\u001b[0m\u001b[0mreader\u001b[0m\u001b[1;33m(\u001b[0m\u001b[0mf\u001b[0m\u001b[1;33m)\u001b[0m\u001b[1;33m\u001b[0m\u001b[1;33m\u001b[0m\u001b[0m\n\u001b[1;32m----> 5\u001b[1;33m \u001b[0mnext\u001b[0m\u001b[1;33m(\u001b[0m\u001b[0mdata\u001b[0m\u001b[1;33m)\u001b[0m\u001b[1;33m\u001b[0m\u001b[1;33m\u001b[0m\u001b[0m\n\u001b[0m\u001b[0;32m      6\u001b[0m \u001b[0mmonth\u001b[0m \u001b[1;33m=\u001b[0m \u001b[1;33m[\u001b[0m\u001b[1;33m[\u001b[0m\u001b[1;33m]\u001b[0m\u001b[1;33m,\u001b[0m\u001b[1;33m[\u001b[0m\u001b[1;33m]\u001b[0m\u001b[1;33m,\u001b[0m\u001b[1;33m[\u001b[0m\u001b[1;33m]\u001b[0m\u001b[1;33m,\u001b[0m\u001b[1;33m[\u001b[0m\u001b[1;33m]\u001b[0m\u001b[1;33m,\u001b[0m\u001b[1;33m[\u001b[0m\u001b[1;33m]\u001b[0m\u001b[1;33m,\u001b[0m\u001b[1;33m[\u001b[0m\u001b[1;33m]\u001b[0m\u001b[1;33m,\u001b[0m\u001b[1;33m[\u001b[0m\u001b[1;33m]\u001b[0m\u001b[1;33m,\u001b[0m\u001b[1;33m[\u001b[0m\u001b[1;33m]\u001b[0m\u001b[1;33m,\u001b[0m\u001b[1;33m[\u001b[0m\u001b[1;33m]\u001b[0m\u001b[1;33m,\u001b[0m\u001b[1;33m[\u001b[0m\u001b[1;33m]\u001b[0m\u001b[1;33m,\u001b[0m\u001b[1;33m[\u001b[0m\u001b[1;33m]\u001b[0m\u001b[1;33m,\u001b[0m\u001b[1;33m[\u001b[0m\u001b[1;33m]\u001b[0m\u001b[1;33m]\u001b[0m \u001b[1;31m#12개\u001b[0m\u001b[1;33m\u001b[0m\u001b[1;33m\u001b[0m\u001b[0m\n\u001b[0;32m      7\u001b[0m \u001b[1;33m\u001b[0m\u001b[0m\n",
      "\u001b[1;31mUnicodeDecodeError\u001b[0m: 'cp949' codec can't decode byte 0x9c in position 8: illegal multibyte sequence"
     ]
    }
   ],
   "source": [
    "import matplotlib.pyplot as plt\n",
    "import csv\n",
    "f = open('seoul.csv')\n",
    "data = csv.reader(f)\n",
    "next(data)\n",
    "month = [[],[],[],[],[],[],[],[],[],[],[],[]] #12개\n",
    "\n",
    "for row in data :\n",
    "    if row[-1] != '' and row[-2] != '' :\n",
    "        month[int(row[0].split('-')[1])-1].append(float(row[-1]))\n",
    "        \n",
    "plt.style.use('ggplot')\n",
    "plt.figure(dpi=300)\n",
    "plt.boxplot(month, showfliers=False)\n",
    "plt.show()"
   ]
  },
  {
   "cell_type": "code",
   "execution_count": 9,
   "metadata": {},
   "outputs": [
    {
     "ename": "UnicodeDecodeError",
     "evalue": "'cp949' codec can't decode byte 0x9c in position 8: illegal multibyte sequence",
     "output_type": "error",
     "traceback": [
      "\u001b[1;31m---------------------------------------------------------------------------\u001b[0m",
      "\u001b[1;31mUnicodeDecodeError\u001b[0m                        Traceback (most recent call last)",
      "\u001b[1;32m<ipython-input-9-8d51599e8aa4>\u001b[0m in \u001b[0;36m<module>\u001b[1;34m\u001b[0m\n\u001b[0;32m      4\u001b[0m \u001b[0mf\u001b[0m \u001b[1;33m=\u001b[0m \u001b[0mopen\u001b[0m\u001b[1;33m(\u001b[0m\u001b[1;34m'seoul.csv'\u001b[0m\u001b[1;33m)\u001b[0m\u001b[1;33m\u001b[0m\u001b[1;33m\u001b[0m\u001b[0m\n\u001b[0;32m      5\u001b[0m \u001b[0mdata\u001b[0m \u001b[1;33m=\u001b[0m \u001b[0mcsv\u001b[0m\u001b[1;33m.\u001b[0m\u001b[0mreader\u001b[0m\u001b[1;33m(\u001b[0m\u001b[0mf\u001b[0m\u001b[1;33m)\u001b[0m\u001b[1;33m\u001b[0m\u001b[1;33m\u001b[0m\u001b[0m\n\u001b[1;32m----> 6\u001b[1;33m \u001b[0mnext\u001b[0m\u001b[1;33m(\u001b[0m\u001b[0mdata\u001b[0m\u001b[1;33m)\u001b[0m\u001b[1;33m\u001b[0m\u001b[1;33m\u001b[0m\u001b[0m\n\u001b[0m\u001b[0;32m      7\u001b[0m \u001b[1;33m\u001b[0m\u001b[0m\n\u001b[0;32m      8\u001b[0m \u001b[0mmonth\u001b[0m \u001b[1;33m=\u001b[0m \u001b[1;33m[\u001b[0m\u001b[1;33m]\u001b[0m\u001b[1;33m\u001b[0m\u001b[1;33m\u001b[0m\u001b[0m\n",
      "\u001b[1;31mUnicodeDecodeError\u001b[0m: 'cp949' codec can't decode byte 0x9c in position 8: illegal multibyte sequence"
     ]
    }
   ],
   "source": [
    "import matplotlib.pyplot as plt\n",
    "import csv\n",
    "\n",
    "f = open('seoul.csv')\n",
    "data = csv.reader(f)\n",
    "next(data)\n",
    "\n",
    "month = []\n",
    "for i in range(31) : \n",
    "    month.append([])\n",
    "\n",
    "for row in data :\n",
    "    if row[-1] != '' :\n",
    "        if row[0].split('-')[1] == '08':\n",
    "            month[int(row[0].split('-')[2])-1].append(float(row[-1]))\n",
    "        \n",
    "plt.style.use('ggplot')\n",
    "plt.figure(dpi=300)\n",
    "plt.boxplot(month, showfliers=False)\n",
    "plt.xticks(rotation = 45) # x축 내용 45도 회전하기\n",
    "plt.show()"
   ]
  },
  {
   "cell_type": "code",
   "execution_count": 10,
   "metadata": {},
   "outputs": [
    {
     "data": {
      "image/png": "[encoded data removed]",
      "text/plain": [
       "<Figure size 1800x1200 with 1 Axes>"
      ]
     },
     "metadata": {},
     "output_type": "display_data"
    }
   ],
   "source": [
    "import matplotlib.pyplot as plt\n",
    "import csv\n",
    "\n",
    "f = open('seoul.csv', encoding=\"utf-8\")\n",
    "data = csv.reader(f)\n",
    "next(data)\n",
    "\n",
    "month = [[],[],[],[],[],[],[],[],[],[],[],[]] #12개\n",
    "\n",
    "for row in data :\n",
    "    if row[-1] != '' and row[-2] != '' :\n",
    "        for i in range(1,3) :\n",
    "            month[int(row[0].split('-')[1])-1].append(float(row[-i]))\n",
    "    \n",
    "plt.style.use('ggplot')\n",
    "plt.figure(dpi=300)\n",
    "plt.boxplot(month, showfliers=False)\n",
    "plt.show()"
   ]
  },
  {
   "cell_type": "markdown",
   "metadata": {},
   "source": [
    "#### 5) 000000 시각화하기"
   ]
  },
  {
   "cell_type": "code",
   "execution_count": null,
   "metadata": {},
   "outputs": [],
   "source": [
    "import matplotlib.pyplot as plt\n",
    "import csv\n",
    "\n",
    "f = open('seoul.csv', encoding=\"utf-8\")\n",
    "data = csv.reader(f)\n",
    "month = [[],[],[],[],[],[],[],[],[],[],[],[]] #12개\n",
    "next(data)\n",
    "for row in data :\n",
    "    if row[-1] != '' and row[-2] != '' :\n",
    "        month[int(row[0].split('-')[1])-1].append(float(row[-1]) - float(row[-2]))\n",
    "\n",
    "plt.style.use('ggplot')\n",
    "plt.figure(dpi=300)\n",
    "plt.boxplot(month)\n",
    "# plt.boxplot(month, showfliers=False)\n",
    "plt.show()"
   ]
  },
  {
   "cell_type": "code",
   "execution_count": null,
   "metadata": {},
   "outputs": [],
   "source": [
    "result = []\n",
    "for i in range(12) :\n",
    "    result.append(sum(month[i])/len(month[i]))\n",
    "\n",
    "plt.xticks(range(1,13))\n",
    "plt.plot(range(1,13), result)\n",
    "plt.show()"
   ]
  },
  {
   "cell_type": "code",
   "execution_count": null,
   "metadata": {},
   "outputs": [],
   "source": [
    "import matplotlib.pyplot as plt\n",
    "import csv\n",
    "result = []\n",
    "year_list = []\n",
    "f = open('seoul.csv', encoding =\"utf-9\")\n",
    "data = csv.reader(f)\n",
    "next(data)\n",
    "year = 1907\n",
    "s = 0\n",
    "cnt = 0\n",
    "for row in data :\n",
    "    if row[-3] != '' :\n",
    "        cnt += 1\n",
    "        s += float(row[-3])\n",
    "    if row[0].split('-')[0] != year and cnt > 360:\n",
    "        result.append(s/cnt)\n",
    "        year_list.append(year)\n",
    "        year = row[0].split('-')[0]\n",
    "        s = 0\n",
    "        cnt = 0\n",
    "plt.style.use('ggplot')\n",
    "plt.figure(dpi=300)\n",
    "plt.plot(year_list, result)\n",
    "plt.show()"
   ]
  },
  {
   "cell_type": "markdown",
   "metadata": {},
   "source": [
    "#### 연습 1: 분기열 온도를 막대그래프로 나타내어 보시오."
   ]
  },
  {
   "cell_type": "markdown",
   "metadata": {},
   "source": [
    "#### 연습2: 1년중 1교차가를 월별로 박스그래프로 나타내고 가장 큰 달을 찾아보세요."
   ]
  },
  {
   "cell_type": "markdown",
   "metadata": {},
   "source": [
    "#### 연습3: 지난 20년간 연교차를 박스그래프로 표시해보고 결과에 대해서 설명해보세요."
   ]
  },
  {
   "cell_type": "code",
   "execution_count": null,
   "metadata": {},
   "outputs": [],
   "source": []
  }
 ],
 "metadata": {
  "kernelspec": {
   "display_name": "Python 3",
   "language": "python",
   "name": "python3"
  },
  "language_info": {
   "codemirror_mode": {
    "name": "ipython",
    "version": 3
   },
   "file_extension": ".py",
   "mimetype": "text/x-python",
   "name": "python",
   "nbconvert_exporter": "python",
   "pygments_lexer": "ipython3",
   "version": "3.7.1"
  }
 },
 "nbformat": 4,
 "nbformat_minor": 2
}
