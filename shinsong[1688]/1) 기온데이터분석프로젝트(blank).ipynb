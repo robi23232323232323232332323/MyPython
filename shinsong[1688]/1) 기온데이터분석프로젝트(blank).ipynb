{
 "cells": [
  {
   "cell_type": "markdown",
   "metadata": {},
   "source": [
    "## [ 프로젝트 1 - 기온데이터 분석 ]\n",
    "### 1) 데이터 불러오기"
   ]
  },
  {
   "cell_type": "code",
   "execution_count": null,
   "metadata": {},
   "outputs": [],
   "source": [
    "import csv\n",
    "f = open('seoul.csv', encoding=\"utf-8\")\n",
    "data = csv.reader(f)\n",
    "\n",
    "for row in data :\n",
    "    # 아래 빈 칸에 들어갈 내용을 작성해주세요!\n",
    "    print(_____)"
   ]
  },
  {
   "cell_type": "markdown",
   "metadata": {},
   "source": [
    "###  << 몸풀기 문제 : 기상 관측 이래 가장 더웠던 날은 몇 도였을까요? >>"
   ]
  },
  {
   "cell_type": "code",
   "execution_count": null,
   "metadata": {},
   "outputs": [],
   "source": [
    "import csv\n",
    "f = open('seoul.csv', encoding=\"utf-8\")\n",
    "data = csv.reader(f)\n",
    "next(data)\n",
    "\n",
    "max_temp = 0 # max_temp : 최고 기온을 기록할 저장 공간\n",
    "max_temp_date = '' # max_temp_date : 최고 기온이었던 날짜를 기록할 저장 공간\n",
    "\n",
    "for row in data :\n",
    "    if row[-1] != '' :\n",
    "        # 아래 빈 칸에 들어갈 내용을 작성해주세요!\n",
    "        if float(________) > _____ :\n",
    "            memo = float(_______)\n",
    "            memo_date = _______\n",
    "            \n",
    "print(max_temp, max_temp_date)"
   ]
  },
  {
   "cell_type": "markdown",
   "metadata": {},
   "source": [
    "#### tip1) split 함수 : 원하는 문자를 기준으로 문자열을 나누어 리스트로 만들어줌"
   ]
  },
  {
   "cell_type": "code",
   "execution_count": null,
   "metadata": {},
   "outputs": [],
   "source": [
    "s = '2018 python conference'\n",
    "print(s.split())"
   ]
  },
  {
   "cell_type": "code",
   "execution_count": null,
   "metadata": {},
   "outputs": [],
   "source": [
    "date = '1907-10-01'\n",
    "split_date = date.split('-')\n",
    "print(split_date[1])\n",
    "# 월만 출력하기"
   ]
  },
  {
   "cell_type": "code",
   "execution_count": null,
   "metadata": {},
   "outputs": [],
   "source": [
    "import csv\n",
    "f = open('seoul.csv', encoding=\"utf-8\")\n",
    "data = csv.reader(f)\n",
    "next(data)\n",
    "\n",
    "max_temp = 0\n",
    "max_temp_date = ''\n",
    "\n",
    "cnt = 0\n",
    "for row in data :\n",
    "    if row[-1] != '' :\n",
    "        # 1995년 이전의 최고 기온을 알아보기 위한 코드를 작성해보세요.\n",
    "        if int(row[0].split('-')[0]) < 1995 and float(row[-1]) > max_temp :\n",
    "            max_temp = float(row[-1])\n",
    "            max_temp_date = row[0]\n",
    "            \n",
    "print(max_temp, max_temp_date)"
   ]
  },
  {
   "cell_type": "code",
   "execution_count": null,
   "metadata": {},
   "outputs": [],
   "source": [
    "import csv\n",
    "f = open('seoul.csv', encoding=\"utf-8\")\n",
    "data = csv.reader(f)\n",
    "next(data)\n",
    "\n",
    "for row in data :\n",
    "    # 역대 서울 기온 중 37도 이상이었던 날의 날짜, 최고 기온을 출력해보세요."
   ]
  },
  {
   "cell_type": "markdown",
   "metadata": {},
   "source": [
    "### [ plot 함수 : 데이터를 꺽은선 그래프로 표현해줌 ]"
   ]
  },
  {
   "cell_type": "code",
   "execution_count": null,
   "metadata": {},
   "outputs": [],
   "source": [
    "import matplotlib.pyplot as plt\n",
    "plt.plot([1,2,3,40])\n",
    "plt.show()"
   ]
  },
  {
   "cell_type": "code",
   "execution_count": null,
   "metadata": {},
   "outputs": [],
   "source": [
    "import csv\n",
    "f = open('seoul.csv', encoding=\"utf-8\")\n",
    "data = csv.reader(f)\n",
    "next(data)\n",
    "\n",
    "# 역대 오늘의 서울의 최고 기온을 출력해보세요.\n",
    "temperature=[]\n",
    "for row in data :\n",
    "    if(row[-1] !='' and (row[0].split('-')[1] == '11' and row[0].split('-')[2] == '24')):       \n",
    "        temperature.append(float(row[-1]))\n",
    "    \n",
    "import matplotlib.pyplot as plt\n",
    "plt.plot(_temperature)\n",
    "\n",
    "plt.show()"
   ]
  },
  {
   "cell_type": "markdown",
   "metadata": {},
   "source": [
    "### [ hist 함수 : 데이터를 히스트그램으로 표현해줌 ]"
   ]
  },
  {
   "cell_type": "code",
   "execution_count": null,
   "metadata": {},
   "outputs": [],
   "source": [
    "import matplotlib.pyplot as plt\n",
    "plt.hist([1,2,3,4,4,4,4])\n",
    "plt.show()"
   ]
  },
  {
   "cell_type": "code",
   "execution_count": null,
   "metadata": {},
   "outputs": [],
   "source": [
    "import matplotlib.pyplot as plt\n",
    "import random\n",
    "dice =[]\n",
    "for i in range(100) : \n",
    "    dice.append(random.randint(1,6))\n",
    "plt.hist(dice, bins = 2)\n",
    "#bins는 막대의 갯수 만일 bins=6이라면 그래프의 형태는?\n",
    "plt.show()"
   ]
  },
  {
   "cell_type": "code",
   "execution_count": null,
   "metadata": {},
   "outputs": [],
   "source": [
    "import csv\n",
    "f = open('seoul.csv', encoding=\"utf-8\")\n",
    "data = csv.reader(f)\n",
    "next(data)\n",
    "\n",
    "# 역대 서울의 최고 기온을 히스토그램으로 출력해보세요.\n",
    "max = []\n",
    "\n",
    "for row in data :\n",
    "    if(row[-1] !=\"\"):\n",
    "        max.append(float(row[-1]))\n",
    "        #print(row[-1])\n",
    "    \n",
    "import matplotlib.pyplot as plt\n",
    "plt.hist(max, bins =100)\n",
    "plt.show()"
   ]
  },
  {
   "cell_type": "markdown",
   "metadata": {},
   "source": [
    "### Team Mission) 알고리즘 설계하기\n"
   ]
  },
  {
   "cell_type": "code",
   "execution_count": null,
   "metadata": {},
   "outputs": [],
   "source": [
    "import csv\n",
    "f = open('seoul.csv', , encoding=\"utf-8\")\n",
    "data = csv.reader(f)\n",
    "next(data)\n",
    "\n",
    "temp = []\n",
    "# 내 생일의 기온 변화를 시각화해보세요.\n",
    "for row in data :\n",
    "    date = _______________\n",
    "    if row[-1] != '' :\n",
    "        if ___________ and _____________ :\n",
    "            temp.append(float(row[-1]))\n",
    "\n",
    "import matplotlib.pyplot as plt\n",
    "plt.____(temp)\n",
    "plt.show()"
   ]
  },
  {
   "cell_type": "markdown",
   "metadata": {},
   "source": [
    "#### tip) 조금 더 예쁘게 표현하기"
   ]
  },
  {
   "cell_type": "code",
   "execution_count": null,
   "metadata": {},
   "outputs": [],
   "source": [
    "import matplotlib.pyplot as plt\n",
    "import csv\n",
    "f = open('seoul.csv', encoding=\"utf-8\")\n",
    "data = csv.reader(f)\n",
    "next(data)\n",
    "\n",
    "result = []\n",
    "\n",
    "for row in data :\n",
    "    if row[-3] != '' :\n",
    "        result.append(float(row[-3]))\n",
    "        \n",
    "plt.style.use('ggplot')\n",
    "plt.figure(dpi=300)\n",
    "plt.rc('font', family = 'Malgun Gothic') # Windows인 경우\n",
    "# plt.rc('font', family = 'AppleGothic') # MacOS인 경우\n",
    "plt.title('서울 평균 기온 히스토그램')\n",
    "plt.hist(result, bins=100)\n",
    "plt.savefig('서울 평균 기온 히스토그램.png')\n",
    "plt.show()"
   ]
  },
  {
   "cell_type": "markdown",
   "metadata": {},
   "source": [
    "#### mission1) 000000 시각화해보기"
   ]
  },
  {
   "cell_type": "code",
   "execution_count": null,
   "metadata": {},
   "outputs": [],
   "source": [
    "import matplotlib.pyplot as plt\n",
    "import csv\n",
    "result = []\n",
    "f = open('seoul.csv', encoding=\"utf-8\")\n",
    "data = csv.reader(f)\n",
    "next(data)\n",
    "\n",
    "for row in data :\n",
    "    if row[-3] != '' and row[0].split('-')[1] == '07' :\n",
    "        result.append(float(row[-3]))\n",
    "        \n",
    "plt.hist(result, bins = 40)\n",
    "plt.show()"
   ]
  },
  {
   "cell_type": "markdown",
   "metadata": {},
   "source": [
    "#### mission2) 000000 시각화해보기"
   ]
  },
  {
   "cell_type": "code",
   "execution_count": null,
   "metadata": {},
   "outputs": [],
   "source": [
    "import matplotlib.pyplot as plt\n",
    "import csv\n",
    "summer = []\n",
    "winter = []\n",
    "f = open('seoul.csv', encoding=\"utf-8\")\n",
    "data = csv.reader(f)\n",
    "next(data)\n",
    "for row in data :\n",
    "    if row[-3] != '' and row[0].split('-')[1] == '07':\n",
    "        summer.append(float(row[-3]))\n",
    "    if row[-3] != '' and row[0].split('-')[1] == '01' :\n",
    "        winter.append(float(row[-3]))\n",
    "        \n",
    "plt.figure(dpi=300)\n",
    "plt.hist(summer, bins = 100)\n",
    "plt.hist(winter, bins = 100)\n",
    "plt.show()"
   ]
  },
  {
   "cell_type": "markdown",
   "metadata": {},
   "source": [
    "### [  boxplot 함수 : 데이터를 boxplot(상자그림)으로 표현해줌 ]"
   ]
  },
  {
   "cell_type": "code",
   "execution_count": null,
   "metadata": {},
   "outputs": [],
   "source": [
    "import matplotlib.pyplot as plt\n",
    "plt.boxplot([1,2,3,4,7])\n",
    "plt.show()"
   ]
  },
  {
   "cell_type": "markdown",
   "metadata": {},
   "source": [
    "#### mission3) boxplot으로 시각화해보기"
   ]
  },
  {
   "cell_type": "code",
   "execution_count": null,
   "metadata": {},
   "outputs": [],
   "source": [
    "import matplotlib.pyplot as plt\n",
    "import csv\n",
    "summer = []\n",
    "winter = []\n",
    "f = open('seoul.csv', encoding=\"utf-8\")\n",
    "data = csv.reader(f)\n",
    "next(data)\n",
    "\n",
    "for row in data :\n",
    "    if row[-3] != '' and row[0].split('-')[1] == '07' :\n",
    "        summer.append(float(row[-3]))\n",
    "    if row[-3] != '' and row[0].split('-')[1] == '01' :\n",
    "        winter.append(float(row[-3]))\n",
    "        \n",
    "plt.boxplot([summer,winter])\n",
    "plt.show()"
   ]
  },
  {
   "cell_type": "markdown",
   "metadata": {},
   "source": [
    "#### 4) 000000 시각화하기"
   ]
  },
  {
   "cell_type": "code",
   "execution_count": null,
   "metadata": {},
   "outputs": [],
   "source": [
    "import matplotlib.pyplot as plt\n",
    "import csv\n",
    "f = open('seoul.csv')\n",
    "data = csv.reader(f)\n",
    "next(data)\n",
    "month = [[],[],[],[],[],[],[],[],[],[],[],[]] #12개\n",
    "\n",
    "for row in data :\n",
    "    if row[-1] != '' and row[-2] != '' :\n",
    "        month[int(row[0].split('-')[1])-1].append(float(row[-1]))\n",
    "        \n",
    "plt.style.use('ggplot')\n",
    "plt.figure(dpi=300)\n",
    "plt.boxplot(month, showfliers=False)\n",
    "plt.show()"
   ]
  },
  {
   "cell_type": "code",
   "execution_count": null,
   "metadata": {},
   "outputs": [],
   "source": [
    "import matplotlib.pyplot as plt\n",
    "import csv\n",
    "\n",
    "f = open('seoul.csv')\n",
    "data = csv.reader(f)\n",
    "next(data)\n",
    "\n",
    "month = []\n",
    "for i in range(31) : \n",
    "    month.append([])\n",
    "\n",
    "for row in data :\n",
    "    if row[-1] != '' :\n",
    "        if row[0].split('-')[1] == '08':\n",
    "            month[int(row[0].split('-')[2])-1].append(float(row[-1]))\n",
    "        \n",
    "plt.style.use('ggplot')\n",
    "plt.figure(dpi=300)\n",
    "plt.boxplot(month, showfliers=False)\n",
    "plt.xticks(rotation = 45) # x축 내용 45도 회전하기\n",
    "plt.show()"
   ]
  },
  {
   "cell_type": "code",
   "execution_count": null,
   "metadata": {},
   "outputs": [],
   "source": [
    "import matplotlib.pyplot as plt\n",
    "import csv\n",
    "\n",
    "f = open('seoul.csv', encoding=\"utf-8\")\n",
    "data = csv.reader(f)\n",
    "next(data)\n",
    "\n",
    "month = [[],[],[],[],[],[],[],[],[],[],[],[]] #12개\n",
    "\n",
    "for row in data :\n",
    "    if row[-1] != '' and row[-2] != '' :\n",
    "        for i in range(1,3) :\n",
    "            month[int(row[0].split('-')[1])-1].append(float(row[-i]))\n",
    "    \n",
    "plt.style.use('ggplot')\n",
    "plt.figure(dpi=300)\n",
    "plt.boxplot(month, showfliers=False)\n",
    "plt.show()"
   ]
  },
  {
   "cell_type": "markdown",
   "metadata": {},
   "source": [
    "#### 5) 000000 시각화하기"
   ]
  },
  {
   "cell_type": "code",
   "execution_count": null,
   "metadata": {},
   "outputs": [],
   "source": [
    "import matplotlib.pyplot as plt\n",
    "import csv\n",
    "\n",
    "f = open('seoul.csv', encoding=\"utf-8\")\n",
    "data = csv.reader(f)\n",
    "month = [[],[],[],[],[],[],[],[],[],[],[],[]] #12개\n",
    "next(data)\n",
    "for row in data :\n",
    "    if row[-1] != '' and row[-2] != '' :\n",
    "        month[int(row[0].split('-')[1])-1].append(float(row[-1]) - float(row[-2]))\n",
    "\n",
    "plt.style.use('ggplot')\n",
    "plt.figure(dpi=300)\n",
    "plt.boxplot(month)\n",
    "# plt.boxplot(month, showfliers=False)\n",
    "plt.show()"
   ]
  },
  {
   "cell_type": "code",
   "execution_count": null,
   "metadata": {},
   "outputs": [],
   "source": [
    "result = []\n",
    "for i in range(12) :\n",
    "    result.append(sum(month[i])/len(month[i]))\n",
    "\n",
    "plt.xticks(range(1,13))\n",
    "plt.plot(range(1,13), result)\n",
    "plt.show()"
   ]
  },
  {
   "cell_type": "code",
   "execution_count": null,
   "metadata": {},
   "outputs": [],
   "source": [
    "import matplotlib.pyplot as plt\n",
    "import csv\n",
    "result = []\n",
    "year_list = []\n",
    "f = open('seoul.csv', encoding =\"utf-9\")\n",
    "data = csv.reader(f)\n",
    "next(data)\n",
    "year = 1907\n",
    "s = 0\n",
    "cnt = 0\n",
    "for row in data :\n",
    "    if row[-3] != '' :\n",
    "        cnt += 1\n",
    "        s += float(row[-3])\n",
    "    if row[0].split('-')[0] != year and cnt > 360:\n",
    "        result.append(s/cnt)\n",
    "        year_list.append(year)\n",
    "        year = row[0].split('-')[0]\n",
    "        s = 0\n",
    "        cnt = 0\n",
    "plt.style.use('ggplot')\n",
    "plt.figure(dpi=300)\n",
    "plt.plot(year_list, result)\n",
    "plt.show()"
   ]
  },
  {
   "cell_type": "markdown",
   "metadata": {},
   "source": [
    "#### 연습 1: 분기열 온도를 막대그래프로 나타내어 보시오."
   ]
  },
  {
   "cell_type": "markdown",
   "metadata": {},
   "source": [
    "#### 연습2: 1년중 1교차가를 월별로 박스그래프로 나타내고 가장 큰 달을 찾아보세요."
   ]
  },
  {
   "cell_type": "markdown",
   "metadata": {},
   "source": [
    "#### 연습3: 지난 20년간 연교차를 박스그래프로 표시해보고 결과에 대해서 설명해보세요."
   ]
  },
  {
   "cell_type": "code",
   "execution_count": null,
   "metadata": {},
   "outputs": [],
   "source": []
  }
 ],
 "metadata": {
  "kernelspec": {
   "display_name": "Python 3",
   "language": "python",
   "name": "python3"
  },
  "language_info": {
   "codemirror_mode": {
    "name": "ipython",
    "version": 3
   },
   "file_extension": ".py",
   "mimetype": "text/x-python",
   "name": "python",
   "nbconvert_exporter": "python",
   "pygments_lexer": "ipython3",
   "version": "3.6.5"
  }
 },
 "nbformat": 4,
 "nbformat_minor": 2
}
