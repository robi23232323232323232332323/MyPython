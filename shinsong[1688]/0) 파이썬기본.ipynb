{
 "cells": [
  {
   "cell_type": "markdown",
   "metadata": {
    "colab_type": "text",
    "id": "bjGWGfDnGz__"
   },
   "source": [
    "### step 1) 파이썬 병아리반"
   ]
  },
  {
   "cell_type": "markdown",
   "metadata": {
    "colab_type": "text",
    "id": "5EbsCWbNG0AB"
   },
   "source": [
    "##### 1. 출력 함수 : 결과를 출력할 때 사용"
   ]
  },
  {
   "cell_type": "code",
   "execution_count": null,
   "metadata": {
    "colab": {
     "autoexec": {
      "startup": false,
      "wait_interval": 0
     },
     "base_uri": "https://localhost:8080/",
     "height": 34
    },
    "colab_type": "code",
    "executionInfo": {
     "elapsed": 1050,
     "status": "ok",
     "timestamp": 1533523232161,
     "user": {
      "displayName": "석리송",
      "photoUrl": "//lh6.googleusercontent.com/-nl1P2bIgjO4/AAAAAAAAAAI/AAAAAAAAJAY/chhU_TyZjOs/s50-c-k-no/photo.jpg",
      "userId": "107801588019081221306"
     },
     "user_tz": -540
    },
    "id": "PbG4Lmc9G0AB",
    "outputId": "e395aa8a-ed1e-4c9d-859e-d66c83b2ef70"
   },
   "outputs": [],
   "source": [
    "# 괄호 안에 출력하고 싶은 값을 넣어보세요!\n",
    "print()"
   ]
  },
  {
   "cell_type": "markdown",
   "metadata": {
    "colab_type": "text",
    "id": "BEw_lMktG0AF"
   },
   "source": [
    "##### 2. 변수 : 데이터를 메모리에 저장할 때 사용"
   ]
  },
  {
   "cell_type": "code",
   "execution_count": null,
   "metadata": {
    "colab": {
     "autoexec": {
      "startup": false,
      "wait_interval": 0
     }
    },
    "colab_type": "code",
    "id": "rPPFu3omG0AF"
   },
   "outputs": [],
   "source": [
    "# name이라는 변수 값을 바꿔보세요!\n",
    "name = '구병국'\n",
    "# print(name)\n",
    "# print(name+'님 안녕하세요!')\n",
    "# print(2018, name)"
   ]
  },
  {
   "cell_type": "markdown",
   "metadata": {
    "colab_type": "text",
    "id": "IdP-_Bt-G0AI"
   },
   "source": [
    "##### 3. 입력 함수 : 문자열 데이터를 입력할 때 사용"
   ]
  },
  {
   "cell_type": "code",
   "execution_count": null,
   "metadata": {
    "colab": {
     "autoexec": {
      "startup": false,
      "wait_interval": 0
     }
    },
    "colab_type": "code",
    "id": "zf5O6QbWG0AI"
   },
   "outputs": [],
   "source": [
    "name = input()\n",
    "# name = input('이름을 입력해주세요 : ')\n",
    "# age = input('나이를 입력해주세요 : ')\n",
    "# age = int(age)\n",
    "# print(name+'님은',age+2,'살처럼 보이시네요!!')"
   ]
  },
  {
   "cell_type": "markdown",
   "metadata": {
    "colab_type": "text",
    "id": "VMg9vWnjG0AL"
   },
   "source": [
    "##### 4. 연산자 : 산술, 비교, 논리\n",
    "##### 4-1. 산술연산자 : 산술적 연산(a.k.a 계산)을 할 때 사용"
   ]
  },
  {
   "cell_type": "code",
   "execution_count": null,
   "metadata": {
    "colab": {
     "autoexec": {
      "startup": false,
      "wait_interval": 0
     }
    },
    "colab_type": "code",
    "id": "CWwLHrIjG0AM"
   },
   "outputs": [],
   "source": [
    "# 다양한 값을 넣어보며 연습해보세요.\n",
    "print(3 + 10)\n",
    "print(3 ** 10) # ** : 제곱 연산자\n",
    "print(3 % 10)  # % : 나머지 연산자\n",
    "print(3 / 2)   # / : 실수 나눗셈\n",
    "print(3 // 2)  # // : 정수 나눗셈"
   ]
  },
  {
   "cell_type": "markdown",
   "metadata": {
    "colab_type": "text",
    "id": "n7sFkmKjG0AO"
   },
   "source": [
    "##### 4-2. 비교연산자 : 어떤 값의 크기를 비교할 때 사용"
   ]
  },
  {
   "cell_type": "code",
   "execution_count": null,
   "metadata": {
    "colab": {
     "autoexec": {
      "startup": false,
      "wait_interval": 0
     }
    },
    "colab_type": "code",
    "id": "H_CCJxdPG0AO"
   },
   "outputs": [],
   "source": [
    "# 다양한 값을 넣어보며 연습해보세요.\n",
    "print(10 >= 3)\n",
    "print(10 <= 3)\n",
    "print(10 == 3) # == : 같다\n",
    "print(10 != 3) # != : 같지 않다\n",
    "print(3 % 2 == 1)"
   ]
  },
  {
   "cell_type": "markdown",
   "metadata": {
    "colab_type": "text",
    "id": "ZkzsLqlVG0AR"
   },
   "source": [
    "##### 4-3. 논리연산자 : 어떤 조건이 참인지 거짓인지 판단할 때 사용"
   ]
  },
  {
   "cell_type": "code",
   "execution_count": null,
   "metadata": {
    "colab": {
     "autoexec": {
      "startup": false,
      "wait_interval": 0
     }
    },
    "colab_type": "code",
    "id": "HjLHrqG2G0AS"
   },
   "outputs": [],
   "source": [
    "# 다양한 값을 넣어보며 연습해보세요.\n",
    "# 논리연산자는 and, or, not 3가지 뿐입니다.\n",
    "print(1 == 1 and 2 != 1) # and : 논리 곱\n",
    "print(10 % 2 != 0 and 1 + 1 > 0)\n",
    "print(10 % 2 != 0 or 1 + 1 > 0) # or : 논리 합\n",
    "print(not True) # not : 논리 부정\n",
    "print(not 0)"
   ]
  },
  {
   "cell_type": "markdown",
   "metadata": {
    "colab_type": "text",
    "id": "o_wXZS0WG0AV"
   },
   "source": [
    "### step 2) 파이썬 기초반"
   ]
  },
  {
   "cell_type": "markdown",
   "metadata": {
    "colab_type": "text",
    "id": "8HiGp0ADG0AW"
   },
   "source": [
    "##### 1. 라이브러리 함수 : 다른 누군가가 만들어둔 함수 활용하기"
   ]
  },
  {
   "cell_type": "code",
   "execution_count": null,
   "metadata": {
    "colab": {
     "autoexec": {
      "startup": false,
      "wait_interval": 0
     }
    },
    "colab_type": "code",
    "id": "BD0yXdtwG0AW"
   },
   "outputs": [],
   "source": [
    "# random 숫자의 범위를 바꿔보세요\n",
    "import random\n",
    "print(random.randint(1,6))\n",
    "\n",
    "# 랜덤 숫자가 5번 나오도록 실행해보세요.\n",
    "dice = random.randint(1,6)\n",
    "print(dice)"
   ]
  },
  {
   "cell_type": "code",
   "execution_count": null,
   "metadata": {
    "colab": {
     "autoexec": {
      "startup": false,
      "wait_interval": 0
     }
    },
    "colab_type": "code",
    "id": "KY1Ts3M4G0Ab"
   },
   "outputs": [],
   "source": [
    "help(random)"
   ]
  },
  {
   "cell_type": "markdown",
   "metadata": {
    "colab_type": "text",
    "id": "7cl_mHegG0Ae"
   },
   "source": [
    "##### 2. for 반복문 : 정해진 횟수만큼, 또는 주어진 데이터를 반복하고 싶을 때"
   ]
  },
  {
   "cell_type": "code",
   "execution_count": null,
   "metadata": {
    "colab": {
     "autoexec": {
      "startup": false,
      "wait_interval": 0
     }
    },
    "colab_type": "code",
    "id": "l8BxfdYBG0Ae"
   },
   "outputs": [],
   "source": [
    "# 대괄호 안의 값을 바꿔보세요.\n",
    "for name in ['인천','연수','송도','신송'] :\n",
    "    print(name)"
   ]
  },
  {
   "cell_type": "code",
   "execution_count": null,
   "metadata": {
    "colab": {
     "autoexec": {
      "startup": false,
      "wait_interval": 0
     }
    },
    "colab_type": "code",
    "id": "Ynv9vMgmG0Ah"
   },
   "outputs": [],
   "source": [
    "# i 대신 다른 문자를 넣어보세요.\n",
    "for i in [0,1,2,3] :\n",
    "    print(i)"
   ]
  },
  {
   "cell_type": "code",
   "execution_count": null,
   "metadata": {
    "colab": {
     "autoexec": {
      "startup": false,
      "wait_interval": 0
     }
    },
    "colab_type": "code",
    "id": "UfP-Z6RoG0Aj"
   },
   "outputs": [],
   "source": [
    "# i ** 2 대신 다른 식을 넣어보세요.\n",
    "for i in [0,1,2,3] :\n",
    "    print(i ** 2)"
   ]
  },
  {
   "cell_type": "code",
   "execution_count": null,
   "metadata": {
    "colab": {
     "autoexec": {
      "startup": false,
      "wait_interval": 0
     }
    },
    "colab_type": "code",
    "id": "O-Js7CBxG0Al"
   },
   "outputs": [],
   "source": [
    "# 4 대신 다른 값을 넣어보세요.\n",
    "for i in range(4) :\n",
    "    print(i)"
   ]
  },
  {
   "cell_type": "code",
   "execution_count": null,
   "metadata": {
    "colab": {
     "autoexec": {
      "startup": false,
      "wait_interval": 0
     }
    },
    "colab_type": "code",
    "id": "U6dw-F4GG0Aq"
   },
   "outputs": [],
   "source": [
    "help(range)"
   ]
  },
  {
   "cell_type": "code",
   "execution_count": null,
   "metadata": {
    "colab": {
     "autoexec": {
      "startup": false,
      "wait_interval": 0
     }
    },
    "colab_type": "code",
    "id": "tCsVr0n4G0At"
   },
   "outputs": [],
   "source": [
    "for i in range(1,10) : \n",
    "    print('2 *', i, '=', 2 * i)"
   ]
  },
  {
   "cell_type": "markdown",
   "metadata": {
    "colab_type": "text",
    "id": "E1TyNfURG0Av"
   },
   "source": [
    "##### mission 1) 구구단 n단 출력하기"
   ]
  },
  {
   "cell_type": "code",
   "execution_count": null,
   "metadata": {
    "colab": {
     "autoexec": {
      "startup": false,
      "wait_interval": 0
     }
    },
    "colab_type": "code",
    "id": "ToOgqj4VG0Ax"
   },
   "outputs": [],
   "source": [
    "# 입력 : n(2~9사이의 정수)\n",
    "# 출력 : 구구단 중 n단"
   ]
  },
  {
   "cell_type": "markdown",
   "metadata": {
    "colab_type": "text",
    "id": "b6d0nNzmG0A0"
   },
   "source": [
    "##### 3. 선택문 : 조건에 따라 실행을 다르게 하고 싶을 때"
   ]
  },
  {
   "cell_type": "code",
   "execution_count": null,
   "metadata": {
    "colab": {
     "autoexec": {
      "startup": false,
      "wait_interval": 0
     }
    },
    "colab_type": "code",
    "id": "-O2kTVLDG0A1"
   },
   "outputs": [],
   "source": [
    "# True 대신 다른 조건을 넣어보세요. 예) 10 != 100 / not False\n",
    "if True :\n",
    "    print('이것은 참입니다.')"
   ]
  },
  {
   "cell_type": "code",
   "execution_count": null,
   "metadata": {
    "colab": {
     "autoexec": {
      "startup": false,
      "wait_interval": 0
     }
    },
    "colab_type": "code",
    "id": "azSwEPELG0A2"
   },
   "outputs": [],
   "source": [
    "# c에 다른 값을 넣어보세요. 예) c = False / c + 1 == 1\n",
    "c = 0\n",
    "\n",
    "if c :\n",
    "    print('이것은 참입니다.')\n",
    "else :\n",
    "    print('이것은 거짓입니다.')"
   ]
  },
  {
   "cell_type": "code",
   "execution_count": null,
   "metadata": {
    "colab": {
     "autoexec": {
      "startup": false,
      "wait_interval": 0
     }
    },
    "colab_type": "code",
    "id": "OHFTsSNIG0A4"
   },
   "outputs": [],
   "source": [
    "서버아이디 = 'shinsong'\n",
    "서버비밀번호 = '20181116'\n",
    "\n",
    "아이디 = input('아이디를 입력해주세요 :')\n",
    "비밀번호 = input('비밀번호를 입력해주세요 :')\n",
    "\n",
    "if 서버아이디 == 아이디 and 서버비밀번호 == 비밀번호:\n",
    "    print('로그인이 되었습니다.')\n",
    "else : \n",
    "    print('아이디 또는 비밀번호가 틀렸습니다.')"
   ]
  },
  {
   "cell_type": "markdown",
   "metadata": {
    "colab_type": "text",
    "id": "QvOG56BrG0A6"
   },
   "source": [
    "##### mission 2) 로그인 프로그램 업그레이드하기"
   ]
  },
  {
   "cell_type": "code",
   "execution_count": null,
   "metadata": {
    "colab": {
     "autoexec": {
      "startup": false,
      "wait_interval": 0
     }
    },
    "colab_type": "code",
    "id": "gHCWev4cG0A7"
   },
   "outputs": [],
   "source": [
    "# 입력 : 아이디, 비밀번호\n",
    "# 출력 : 창의적인 방법으로 생각해보세요!"
   ]
  },
  {
   "cell_type": "markdown",
   "metadata": {
    "colab_type": "text",
    "id": "l5XzQV3aG0A9"
   },
   "source": [
    "##### 4. 리스트 : 순서가 있는 데이터를 저장하고 싶을 때"
   ]
  },
  {
   "cell_type": "code",
   "execution_count": null,
   "metadata": {
    "colab": {
     "autoexec": {
      "startup": false,
      "wait_interval": 0
     }
    },
    "colab_type": "code",
    "id": "iEjjrjGWG0BB"
   },
   "outputs": [],
   "source": [
    "help(list)"
   ]
  },
  {
   "cell_type": "code",
   "execution_count": null,
   "metadata": {
    "colab": {
     "autoexec": {
      "startup": false,
      "wait_interval": 0
     },
     "base_uri": "https://localhost:8080/",
     "height": 119
    },
    "colab_type": "code",
    "executionInfo": {
     "elapsed": 930,
     "status": "ok",
     "timestamp": 1533523239506,
     "user": {
      "displayName": "석리송",
      "photoUrl": "//lh6.googleusercontent.com/-nl1P2bIgjO4/AAAAAAAAAAI/AAAAAAAAJAY/chhU_TyZjOs/s50-c-k-no/photo.jpg",
      "userId": "107801588019081221306"
     },
     "user_tz": -540
    },
    "id": "4AuN2dKrG0BD",
    "outputId": "2e52542d-d3f5-42c2-c88c-01c074459966"
   },
   "outputs": [],
   "source": [
    "names = ['인천','연수','송도','신송']\n",
    "print(names) # 리스트 출력하기\n",
    "names.append('고교') # 리스트에 값 추가하기\n",
    "\n",
    "print(names)\n",
    "print(len(names)) # 리스트의 길이 출력하기\n",
    "\n",
    "print(names[1]) # 리스트에 저장된 순서로 접근하기\n",
    "print(names[0]) # 리스트에 저장된 순서로 접근하기\n",
    "print(names[-1]) # 리스트에 저장된 순서로 접근하기\n",
    "print(names[1:3]) # 리스트에 저장된 순서로 자르기"
   ]
  },
  {
   "cell_type": "code",
   "execution_count": null,
   "metadata": {
    "colab": {
     "autoexec": {
      "startup": false,
      "wait_interval": 0
     }
    },
    "colab_type": "code",
    "id": "tjOAQLLnG0BF"
   },
   "outputs": [],
   "source": [
    "# 값을 바꿔보세요.\n",
    "names = ['인천','연수','송도','신송']\n",
    "names.append('바다')\n",
    "for name in names :\n",
    "    print(name,'있나요~?')"
   ]
  },
  {
   "cell_type": "markdown",
   "metadata": {
    "colab_type": "text",
    "id": "VbW5ZhDSG0BH"
   },
   "source": [
    "### step 3) 파이썬 기본반"
   ]
  },
  {
   "cell_type": "markdown",
   "metadata": {
    "colab_type": "text",
    "id": "OoQsUb3iG0BQ"
   },
   "source": [
    "##### 1. break : 반복문을 멈추고 싶을 때 사용"
   ]
  },
  {
   "cell_type": "code",
   "execution_count": null,
   "metadata": {
    "colab": {
     "autoexec": {
      "startup": false,
      "wait_interval": 0
     }
    },
    "colab_type": "code",
    "id": "AS-zfX8IG0BT"
   },
   "outputs": [],
   "source": [
    "for i in range(1, 10) :\n",
    "    if i % 3 == 0 :\n",
    "        break\n",
    "    print(i)"
   ]
  },
  {
   "cell_type": "markdown",
   "metadata": {
    "colab_type": "text",
    "id": "EitmgY6WG0BX"
   },
   "source": [
    "##### 2. continue : 반복문의 나머지 부분을 skip하고 싶을 때 사용"
   ]
  },
  {
   "cell_type": "code",
   "execution_count": null,
   "metadata": {
    "colab": {
     "autoexec": {
      "startup": false,
      "wait_interval": 0
     }
    },
    "colab_type": "code",
    "id": "byBQFkW3G0BY"
   },
   "outputs": [],
   "source": [
    "for i in range(1, 10) :\n",
    "    if i % 3 == 0 :\n",
    "        continue\n",
    "    print(i)"
   ]
  },
  {
   "cell_type": "markdown",
   "metadata": {
    "colab_type": "text",
    "id": "zXeQHJCPG0BH"
   },
   "source": [
    "##### 3. while 반복문 : 조건에 따라 반복하고 싶을 때"
   ]
  },
  {
   "cell_type": "code",
   "execution_count": null,
   "metadata": {
    "colab": {
     "autoexec": {
      "startup": false,
      "wait_interval": 0
     }
    },
    "colab_type": "code",
    "id": "KbQLXiFAG0BJ"
   },
   "outputs": [],
   "source": [
    "a = 10\n",
    "if a > 0 : \n",
    "    print(a)"
   ]
  },
  {
   "cell_type": "code",
   "execution_count": null,
   "metadata": {
    "colab": {
     "autoexec": {
      "startup": false,
      "wait_interval": 0
     }
    },
    "colab_type": "code",
    "id": "CQi5J2H1G0BL"
   },
   "outputs": [],
   "source": [
    "a = 10\n",
    "while a > 0 : \n",
    "    print(a)"
   ]
  },
  {
   "cell_type": "code",
   "execution_count": null,
   "metadata": {
    "colab": {
     "autoexec": {
      "startup": false,
      "wait_interval": 0
     }
    },
    "colab_type": "code",
    "id": "yniFP5hWG0BM"
   },
   "outputs": [],
   "source": [
    "a = 10\n",
    "while a > 0 : \n",
    "    a = a - 1\n",
    "    print(a)"
   ]
  },
  {
   "cell_type": "code",
   "execution_count": null,
   "metadata": {
    "colab": {
     "autoexec": {
      "startup": false,
      "wait_interval": 0
     }
    },
    "colab_type": "code",
    "id": "gOTXfLe2G0BO"
   },
   "outputs": [],
   "source": [
    "a = 10\n",
    "while a > 0 : \n",
    "    print(a)\n",
    "    a = a - 1"
   ]
  },
  {
   "cell_type": "markdown",
   "metadata": {
    "colab_type": "text",
    "id": "TFNhA4C7G0Ba"
   },
   "source": [
    "##### 4. dictionary : 키와 값이 한 쌍을 이루는 데이터를 저장하고 싶을 때"
   ]
  },
  {
   "cell_type": "code",
   "execution_count": null,
   "metadata": {
    "colab": {
     "autoexec": {
      "startup": false,
      "wait_interval": 0
     }
    },
    "colab_type": "code",
    "id": "gkryeSxdG0Bb"
   },
   "outputs": [],
   "source": [
    "menu = {'카페라떼' : 2500, '아이스라떼' : 3000, '핫초코' : 2000, '망고빙수' : 5000}"
   ]
  },
  {
   "cell_type": "code",
   "execution_count": null,
   "metadata": {
    "colab": {
     "autoexec": {
      "startup": false,
      "wait_interval": 0
     }
    },
    "colab_type": "code",
    "id": "DBozEW3mG0Be"
   },
   "outputs": [],
   "source": [
    "print(menu)\n",
    "print(menu['카페라떼'])\n",
    "print(menu[2500])"
   ]
  },
  {
   "cell_type": "code",
   "execution_count": null,
   "metadata": {
    "colab": {
     "autoexec": {
      "startup": false,
      "wait_interval": 0
     }
    },
    "colab_type": "code",
    "id": "FEjKtOUHG0Bg"
   },
   "outputs": [],
   "source": [
    "order = input('원하는 메뉴를 입력해주세요 : ')\n",
    "print(menu[order],'원입니다.')"
   ]
  },
  {
   "cell_type": "code",
   "execution_count": null,
   "metadata": {
    "colab": {
     "autoexec": {
      "startup": false,
      "wait_interval": 0
     }
    },
    "colab_type": "code",
    "id": "uS_gUNPoG0Bj"
   },
   "outputs": [],
   "source": [
    "item = input('추가하실 메뉴를 입력해주세요 : ')\n",
    "price = input('추가하실 메뉴의 가격을 입력해주세요 : ')\n",
    "menu[item] = price\n",
    "print(menu)"
   ]
  },
  {
   "cell_type": "code",
   "execution_count": null,
   "metadata": {
    "colab": {
     "autoexec": {
      "startup": false,
      "wait_interval": 0
     }
    },
    "colab_type": "code",
    "id": "aKTWx_YtG0Bk"
   },
   "outputs": [],
   "source": [
    "txt = 'good to great'\n",
    "cnt = {}\n",
    "for i in txt :\n",
    "    if i not in cnt :\n",
    "        cnt[i] = 1\n",
    "    else :\n",
    "        cnt[i] += 1\n",
    "print(cnt)"
   ]
  },
  {
   "cell_type": "code",
   "execution_count": null,
   "metadata": {},
   "outputs": [],
   "source": []
  }
 ],
 "metadata": {
  "colab": {
   "default_view": {},
   "name": "파이썬 병아리반(180801).ipynb",
   "provenance": [],
   "version": "0.3.2",
   "views": {}
  },
  "kernelspec": {
   "display_name": "Python 3",
   "language": "python",
   "name": "python3"
  },
  "language_info": {
   "codemirror_mode": {
    "name": "ipython",
    "version": 3
   },
   "file_extension": ".py",
   "mimetype": "text/x-python",
   "name": "python",
   "nbconvert_exporter": "python",
   "pygments_lexer": "ipython3",
   "version": "3.6.4"
  }
 },
 "nbformat": 4,
 "nbformat_minor": 1
}
